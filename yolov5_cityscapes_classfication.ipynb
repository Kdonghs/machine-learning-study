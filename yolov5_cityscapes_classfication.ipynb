{
  "nbformat": 4,
  "nbformat_minor": 0,
  "metadata": {
    "colab": {
      "name": "yolov5_cityscapes.ipynb",
      "provenance": [],
      "collapsed_sections": [],
      "authorship_tag": "ABX9TyNSu0dP6YmQxsJL5TtyOBVF",
      "include_colab_link": true
    },
    "kernelspec": {
      "name": "python3",
      "display_name": "Python 3"
    },
    "language_info": {
      "name": "python"
    }
  },
  "cells": [
    {
      "cell_type": "markdown",
      "metadata": {
        "id": "view-in-github",
        "colab_type": "text"
      },
      "source": [
        "<a href=\"https://colab.research.google.com/github/Kdonghs/machine-learning-study/blob/main/yolov5_cityscapes_classfication.ipynb\" target=\"_parent\"><img src=\"https://colab.research.google.com/assets/colab-badge.svg\" alt=\"Open In Colab\"/></a>"
      ]
    },
    {
      "cell_type": "markdown",
      "source": [
        "# yolov5 install"
      ],
      "metadata": {
        "id": "-bt68ZeaAy3b"
      }
    },
    {
      "cell_type": "code",
      "execution_count": 1,
      "metadata": {
        "colab": {
          "base_uri": "https://localhost:8080/"
        },
        "id": "FWzjXtHc8Zqt",
        "outputId": "6303f81e-803b-4114-f619-0e92cd7b96cf"
      },
      "outputs": [
        {
          "output_type": "stream",
          "name": "stdout",
          "text": [
            "Cloning into 'yolov5'...\n",
            "warning: redirecting to https://github.com/ultralytics/yolov5/\n",
            "remote: Enumerating objects: 13270, done.\u001b[K\n",
            "remote: Counting objects: 100% (82/82), done.\u001b[K\n",
            "remote: Compressing objects: 100% (58/58), done.\u001b[K\n",
            "remote: Total 13270 (delta 41), reused 48 (delta 24), pack-reused 13188\u001b[K\n",
            "Receiving objects: 100% (13270/13270), 12.58 MiB | 14.38 MiB/s, done.\n",
            "Resolving deltas: 100% (9095/9095), done.\n"
          ]
        }
      ],
      "source": [
        "!git clone http://github.com/ultralytics/yolov5"
      ]
    },
    {
      "cell_type": "markdown",
      "source": [
        "# version check"
      ],
      "metadata": {
        "id": "mHngBUsFA-YP"
      }
    },
    {
      "cell_type": "code",
      "source": [
        "import platform\n",
        "platform.platform()"
      ],
      "metadata": {
        "colab": {
          "base_uri": "https://localhost:8080/",
          "height": 35
        },
        "id": "Vs8dFayK-12n",
        "outputId": "2990789a-e962-4978-f79b-16f2856d07b0"
      },
      "execution_count": 2,
      "outputs": [
        {
          "output_type": "execute_result",
          "data": {
            "text/plain": [
              "'Linux-5.4.188+-x86_64-with-Ubuntu-18.04-bionic'"
            ],
            "application/vnd.google.colaboratory.intrinsic+json": {
              "type": "string"
            }
          },
          "metadata": {},
          "execution_count": 2
        }
      ]
    },
    {
      "cell_type": "code",
      "source": [
        "cat /etc/issue.net"
      ],
      "metadata": {
        "colab": {
          "base_uri": "https://localhost:8080/"
        },
        "id": "94qn1CYf_WHg",
        "outputId": "34199543-746e-4947-e336-61807bacef9d"
      },
      "execution_count": 6,
      "outputs": [
        {
          "output_type": "stream",
          "name": "stdout",
          "text": [
            "Ubuntu 18.04.5 LTS\n"
          ]
        }
      ]
    },
    {
      "cell_type": "code",
      "source": [
        "cat /proc/meminfo"
      ],
      "metadata": {
        "colab": {
          "base_uri": "https://localhost:8080/"
        },
        "id": "JfkcDGwJ-8V7",
        "outputId": "0d0b65be-d8c8-4a82-f016-6b8817b6e0b2"
      },
      "execution_count": 5,
      "outputs": [
        {
          "output_type": "stream",
          "name": "stdout",
          "text": [
            "MemTotal:       13298580 kB\n",
            "MemFree:        10643828 kB\n",
            "MemAvailable:   12472844 kB\n",
            "Buffers:          110068 kB\n",
            "Cached:          1857768 kB\n",
            "SwapCached:            0 kB\n",
            "Active:          1076332 kB\n",
            "Inactive:        1388492 kB\n",
            "Active(anon):     438832 kB\n",
            "Inactive(anon):      448 kB\n",
            "Active(file):     637500 kB\n",
            "Inactive(file):  1388044 kB\n",
            "Unevictable:           0 kB\n",
            "Mlocked:               0 kB\n",
            "SwapTotal:             0 kB\n",
            "SwapFree:              0 kB\n",
            "Dirty:              1084 kB\n",
            "Writeback:             0 kB\n",
            "AnonPages:        497016 kB\n",
            "Mapped:           231388 kB\n",
            "Shmem:              1200 kB\n",
            "KReclaimable:      89848 kB\n",
            "Slab:             134376 kB\n",
            "SReclaimable:      89848 kB\n",
            "SUnreclaim:        44528 kB\n",
            "KernelStack:        4800 kB\n",
            "PageTables:         7668 kB\n",
            "NFS_Unstable:          0 kB\n",
            "Bounce:                0 kB\n",
            "WritebackTmp:          0 kB\n",
            "CommitLimit:     6649288 kB\n",
            "Committed_AS:    3054856 kB\n",
            "VmallocTotal:   34359738367 kB\n",
            "VmallocUsed:        7172 kB\n",
            "VmallocChunk:          0 kB\n",
            "Percpu:             1504 kB\n",
            "AnonHugePages:         0 kB\n",
            "ShmemHugePages:        0 kB\n",
            "ShmemPmdMapped:        0 kB\n",
            "FileHugePages:         0 kB\n",
            "FilePmdMapped:         0 kB\n",
            "CmaTotal:              0 kB\n",
            "CmaFree:               0 kB\n",
            "HugePages_Total:       0\n",
            "HugePages_Free:        0\n",
            "HugePages_Rsvd:        0\n",
            "HugePages_Surp:        0\n",
            "Hugepagesize:       2048 kB\n",
            "Hugetlb:               0 kB\n",
            "DirectMap4k:      107328 kB\n",
            "DirectMap2M:     5132288 kB\n",
            "DirectMap1G:    10485760 kB\n"
          ]
        }
      ]
    },
    {
      "cell_type": "code",
      "source": [
        "!python --version"
      ],
      "metadata": {
        "colab": {
          "base_uri": "https://localhost:8080/"
        },
        "id": "o1nScjol_ciC",
        "outputId": "ce3cdb26-5ca4-4592-f9c4-3d51bd90d314"
      },
      "execution_count": 7,
      "outputs": [
        {
          "output_type": "stream",
          "name": "stdout",
          "text": [
            "Python 3.7.13\n"
          ]
        }
      ]
    },
    {
      "cell_type": "code",
      "source": [
        "!nvidia-sml"
      ],
      "metadata": {
        "colab": {
          "base_uri": "https://localhost:8080/"
        },
        "id": "UOAz6F6C_k5k",
        "outputId": "ef92b3bd-e684-47bc-e974-8780e4bfa47f"
      },
      "execution_count": 9,
      "outputs": [
        {
          "output_type": "stream",
          "name": "stdout",
          "text": [
            "/bin/bash: nvidia-sml: command not found\n"
          ]
        }
      ]
    },
    {
      "cell_type": "code",
      "source": [
        ""
      ],
      "metadata": {
        "id": "gNwfjv1UASJb"
      },
      "execution_count": null,
      "outputs": []
    },
    {
      "cell_type": "markdown",
      "source": [
        "https://velog.io/@yooniverseis/YOLO-v5-%EC%8B%A4%EC%8A%B5%ED%95%B4%EB%B3%B4%EA%B8%B0"
      ],
      "metadata": {
        "id": "qf55M-yAArM-"
      }
    },
    {
      "cell_type": "markdown",
      "source": [
        "https://www.cityscapes-dataset.com/downloads/"
      ],
      "metadata": {
        "id": "L4ba9KMQAvJv"
      }
    }
  ]
}